{
 "cells": [
  {
   "cell_type": "code",
   "execution_count": null,
   "metadata": {},
   "outputs": [],
   "source": [
    "# Predicting salary for newly joined employee using simple linear regression algorithm"
   ]
  },
  {
   "cell_type": "code",
   "execution_count": 30,
   "metadata": {},
   "outputs": [],
   "source": [
    "# Importing essential libraries\n",
    "import pandas as pd\n",
    "import numpy as np\n",
    "import matplotlib.pyplot as plt"
   ]
  },
  {
   "cell_type": "code",
   "execution_count": 31,
   "metadata": {},
   "outputs": [],
   "source": [
    "# Loading the dataset\n",
    "dataset=pd.read_csv('Salary_Data.csv')"
   ]
  },
  {
   "cell_type": "code",
   "execution_count": 32,
   "metadata": {},
   "outputs": [
    {
     "name": "stdout",
     "output_type": "stream",
     "text": [
      "   YearsExperience   Salary\n",
      "0              1.1  39343.0\n",
      "1              1.3  46205.0\n",
      "2              1.5  37731.0\n",
      "3              2.0  43525.0\n",
      "4              2.2  39891.0\n"
     ]
    }
   ],
   "source": [
    "# Descriptive of Dataset\n",
    "print(dataset.head(5))"
   ]
  },
  {
   "cell_type": "code",
   "execution_count": 33,
   "metadata": {},
   "outputs": [
    {
     "name": "stdout",
     "output_type": "stream",
     "text": [
      "(30, 2)\n"
     ]
    }
   ],
   "source": [
    "# Descriptive shape of a dataset\n",
    "print(dataset.shape)"
   ]
  },
  {
   "cell_type": "code",
   "execution_count": 34,
   "metadata": {},
   "outputs": [
    {
     "data": {
      "image/png": "[encoded data removed]",
      "text/plain": [
       "<Figure size 432x288 with 2 Axes>"
      ]
     },
     "metadata": {
      "needs_background": "light"
     },
     "output_type": "display_data"
    }
   ],
   "source": [
    "# Data Visualization of each attribute\n",
    "\n",
    "# histogram Visualization\n",
    "dataset.hist()\n",
    "plt.show()"
   ]
  },
  {
   "cell_type": "code",
   "execution_count": 35,
   "metadata": {},
   "outputs": [
    {
     "data": {
      "image/png": "[encoded data removed]",
      "text/plain": [
       "<Figure size 432x288 with 9 Axes>"
      ]
     },
     "metadata": {
      "needs_background": "light"
     },
     "output_type": "display_data"
    }
   ],
   "source": [
    "# Density Visualization\n",
    "dataset.plot(kind='density',layout=(3,3),subplots=True,sharex=False,sharey=False)\n",
    "plt.show()"
   ]
  },
  {
   "cell_type": "code",
   "execution_count": 36,
   "metadata": {},
   "outputs": [
    {
     "name": "stdout",
     "output_type": "stream",
     "text": [
      "------------------------input array of matrix-------------------\n",
      "[[1.1]\n",
      " [1.3]\n",
      " [1.5]\n",
      " [2. ]\n",
      " [2.2]]\n",
      "--------------------------output vector---------------------\n",
      "[39343. 46205. 37731. 43525. 39891.]\n"
     ]
    }
   ],
   "source": [
    "# Splitting the dataset into input array of matrix and output vector(input indepdent variable and output depedent variable)\n",
    "x=dataset.iloc[:,0:1].values\n",
    "y=dataset.iloc[:,-1].values\n",
    "print(\"------------------------input array of matrix-------------------\")\n",
    "print(x[:5,:])\n",
    "print(\"--------------------------output vector---------------------\")\n",
    "print(y[:5,])"
   ]
  },
  {
   "cell_type": "code",
   "execution_count": 37,
   "metadata": {},
   "outputs": [
    {
     "name": "stdout",
     "output_type": "stream",
     "text": [
      "------------------------------x_train------------------------\n",
      "[[5.3]\n",
      " [7.9]]\n",
      "------------------------------x_test-------------------------\n",
      "[[ 1.5]\n",
      " [10.3]]\n",
      "------------------------------y_train-------------------------\n",
      "[ 83088. 101302.]\n",
      "------------------------------y_test--------------------------\n",
      "[ 37731. 122391.]\n"
     ]
    }
   ],
   "source": [
    "# Splitting the dataset into training and test set\n",
    "from sklearn.model_selection import train_test_split\n",
    "x_train,x_test,y_train,y_test=train_test_split(x,y,random_state=0,test_size=0.25)\n",
    "print(\"------------------------------x_train------------------------\")\n",
    "print(x_train[:2,:])\n",
    "print(\"------------------------------x_test-------------------------\")\n",
    "print(x_test[:2,:])\n",
    "print(\"------------------------------y_train-------------------------\")\n",
    "print(y_train[:2,])\n",
    "print(\"------------------------------y_test--------------------------\")\n",
    "print(y_test[:2,])"
   ]
  },
  {
   "cell_type": "code",
   "execution_count": 38,
   "metadata": {},
   "outputs": [
    {
     "data": {
      "text/plain": [
       "LinearRegression(copy_X=True, fit_intercept=True, n_jobs=None,\n",
       "         normalize=False)"
      ]
     },
     "execution_count": 38,
     "metadata": {},
     "output_type": "execute_result"
    }
   ],
   "source": [
    "# Building simple linear regression model\n",
    "from sklearn.linear_model import LinearRegression\n",
    "linear_regression=LinearRegression()\n",
    "linear_regression.fit(x_train,y_train)"
   ]
  },
  {
   "cell_type": "code",
   "execution_count": 39,
   "metadata": {},
   "outputs": [
    {
     "name": "stdout",
     "output_type": "stream",
     "text": [
      "---------------Model Predicted Result------------------\n",
      "[ 41056.25705466 123597.70938378  65443.50433372  63567.56223533\n",
      " 116093.94099022 108590.17259667 117031.91203942  64505.53328452]\n"
     ]
    }
   ],
   "source": [
    "# predicted unseen test data\n",
    "y_predicted=linear_regression.predict(x_test)\n",
    "print(\"---------------Model Predicted Result------------------\")\n",
    "print(y_predicted)"
   ]
  },
  {
   "cell_type": "code",
   "execution_count": 40,
   "metadata": {},
   "outputs": [
    {
     "name": "stdout",
     "output_type": "stream",
     "text": [
      "('salary prediction for 8 year experience person newly joined our organization ', array([103900.31735069]))\n"
     ]
    }
   ],
   "source": [
    "# Predcited salary of a person who's experince is 8.2\n",
    "new_salary=linear_regression.predict(np.array([[8.2]]))\n",
    "print(\"salary prediction for 8 year experience person newly joined our organization \",new_salary)"
   ]
  },
  {
   "cell_type": "code",
   "execution_count": 41,
   "metadata": {},
   "outputs": [
    {
     "data": {
      "image/png": "[encoded data removed]",
      "text/plain": [
       "<Figure size 432x288 with 1 Axes>"
      ]
     },
     "metadata": {
      "needs_background": "light"
     },
     "output_type": "display_data"
    }
   ],
   "source": [
    "# Visualizing the result for actual and predicted training data\n",
    "plt.scatter(x_train,y_train,color='red')\n",
    "plt.plot(x_train,linear_regression.predict(x_train),color='blue')\n",
    "plt.title(\"simple linear regression model (training Data)\")\n",
    "plt.xlabel(\"Year of Experience\")\n",
    "plt.ylabel(\"salary\")\n",
    "plt.show()"
   ]
  },
  {
   "cell_type": "code",
   "execution_count": 42,
   "metadata": {},
   "outputs": [
    {
     "data": {
      "image/png": "[encoded data removed]",
      "text/plain": [
       "<Figure size 432x288 with 1 Axes>"
      ]
     },
     "metadata": {
      "needs_background": "light"
     },
     "output_type": "display_data"
    }
   ],
   "source": [
    "# Visualizing the result for actual and predicted test data\n",
    "plt.scatter(x_test,y_test,color='red')\n",
    "plt.plot(x_test,linear_regression.predict(x_test),color='blue')\n",
    "plt.title(\"Simple linear regression model (test data)\")\n",
    "plt.xlabel(\"Years of Experience\")\n",
    "plt.ylabel(\"salary\")\n",
    "plt.show()"
   ]
  },
  {
   "cell_type": "code",
   "execution_count": 48,
   "metadata": {},
   "outputs": [],
   "source": [
    "# Predicting Accuracy metrics for root mean square error\n",
    "from math import sqrt\n",
    "# Root Mean Squared Error\n",
    "def root_mean_squared_error(actual,predicted):\n",
    "    sum=0.0\n",
    "    for i in range(len(actual)):\n",
    "        yhat=predicted[i]-actual[i]\n",
    "        sum+=(yhat**2)\n",
    "    mse=sum/float(len(actual))\n",
    "    return sqrt(mse)"
   ]
  },
  {
   "cell_type": "code",
   "execution_count": 49,
   "metadata": {},
   "outputs": [
    {
     "name": "stdout",
     "output_type": "stream",
     "text": [
      "('Accuracy :', 4733.70258289858)\n"
     ]
    }
   ],
   "source": [
    "# predicting Accuracy metrics for simple linear regression\n",
    "accuracy=root_mean_squared_error(y_test,linear_regression.predict(x_test))\n",
    "print(\"Accuracy :\",accuracy)"
   ]
  },
  {
   "cell_type": "code",
   "execution_count": null,
   "metadata": {},
   "outputs": [],
   "source": []
  }
 ],
 "metadata": {
  "kernelspec": {
   "display_name": "Python 2",
   "language": "python",
   "name": "python2"
  },
  "language_info": {
   "codemirror_mode": {
    "name": "ipython",
    "version": 2
   },
   "file_extension": ".py",
   "mimetype": "text/x-python",
   "name": "python",
   "nbconvert_exporter": "python",
   "pygments_lexer": "ipython2",
   "version": "2.7.16"
  }
 },
 "nbformat": 4,
 "nbformat_minor": 2
}
